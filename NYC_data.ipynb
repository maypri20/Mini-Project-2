{
 "cells": [
  {
   "cell_type": "code",
   "execution_count": 1,
   "id": "c670aa68-04ae-49a3-aa51-11e276c2265f",
   "metadata": {},
   "outputs": [],
   "source": [
    "import pandas as pd\n",
    "import random"
   ]
  },
  {
   "cell_type": "markdown",
   "id": "4ce3b473-a396-49d0-a76e-3962318647a1",
   "metadata": {},
   "source": [
    "### ny_df_cleaned_final ###"
   ]
  },
  {
   "cell_type": "code",
   "execution_count": 3,
   "id": "001e9895-3897-4646-89d2-23fc993499e9",
   "metadata": {},
   "outputs": [],
   "source": [
    "ny_df_cleaned_final = pd.read_csv(\"/Users/priyanka/Documents/IronHack/Lab Practics & submission/Project 2/ny_df_cleaned_final.csv\")"
   ]
  },
  {
   "cell_type": "code",
   "execution_count": 4,
   "id": "47b23918-bbcd-4104-8a02-f4b6c25b9704",
   "metadata": {
    "scrolled": true
   },
   "outputs": [
    {
     "data": {
      "text/html": [
       "<div>\n",
       "<style scoped>\n",
       "    .dataframe tbody tr th:only-of-type {\n",
       "        vertical-align: middle;\n",
       "    }\n",
       "\n",
       "    .dataframe tbody tr th {\n",
       "        vertical-align: top;\n",
       "    }\n",
       "\n",
       "    .dataframe thead th {\n",
       "        text-align: right;\n",
       "    }\n",
       "</style>\n",
       "<table border=\"1\" class=\"dataframe\">\n",
       "  <thead>\n",
       "    <tr style=\"text-align: right;\">\n",
       "      <th></th>\n",
       "      <th>neighbourhood_group</th>\n",
       "      <th>room_type</th>\n",
       "      <th>price</th>\n",
       "      <th>availability_365</th>\n",
       "    </tr>\n",
       "  </thead>\n",
       "  <tbody>\n",
       "    <tr>\n",
       "      <th>0</th>\n",
       "      <td>Brooklyn</td>\n",
       "      <td>Private room</td>\n",
       "      <td>149</td>\n",
       "      <td>365</td>\n",
       "    </tr>\n",
       "    <tr>\n",
       "      <th>1</th>\n",
       "      <td>Manhattan</td>\n",
       "      <td>Entire home_apt</td>\n",
       "      <td>225</td>\n",
       "      <td>355</td>\n",
       "    </tr>\n",
       "    <tr>\n",
       "      <th>2</th>\n",
       "      <td>Manhattan</td>\n",
       "      <td>Private room</td>\n",
       "      <td>150</td>\n",
       "      <td>365</td>\n",
       "    </tr>\n",
       "    <tr>\n",
       "      <th>3</th>\n",
       "      <td>Brooklyn</td>\n",
       "      <td>Entire home_apt</td>\n",
       "      <td>89</td>\n",
       "      <td>194</td>\n",
       "    </tr>\n",
       "    <tr>\n",
       "      <th>4</th>\n",
       "      <td>Manhattan</td>\n",
       "      <td>Entire home_apt</td>\n",
       "      <td>80</td>\n",
       "      <td>0</td>\n",
       "    </tr>\n",
       "    <tr>\n",
       "      <th>...</th>\n",
       "      <td>...</td>\n",
       "      <td>...</td>\n",
       "      <td>...</td>\n",
       "      <td>...</td>\n",
       "    </tr>\n",
       "    <tr>\n",
       "      <th>48890</th>\n",
       "      <td>Brooklyn</td>\n",
       "      <td>Private room</td>\n",
       "      <td>70</td>\n",
       "      <td>9</td>\n",
       "    </tr>\n",
       "    <tr>\n",
       "      <th>48891</th>\n",
       "      <td>Brooklyn</td>\n",
       "      <td>Private room</td>\n",
       "      <td>40</td>\n",
       "      <td>36</td>\n",
       "    </tr>\n",
       "    <tr>\n",
       "      <th>48892</th>\n",
       "      <td>Manhattan</td>\n",
       "      <td>Entire home_apt</td>\n",
       "      <td>115</td>\n",
       "      <td>27</td>\n",
       "    </tr>\n",
       "    <tr>\n",
       "      <th>48893</th>\n",
       "      <td>Manhattan</td>\n",
       "      <td>Shared room</td>\n",
       "      <td>55</td>\n",
       "      <td>2</td>\n",
       "    </tr>\n",
       "    <tr>\n",
       "      <th>48894</th>\n",
       "      <td>Manhattan</td>\n",
       "      <td>Private room</td>\n",
       "      <td>90</td>\n",
       "      <td>23</td>\n",
       "    </tr>\n",
       "  </tbody>\n",
       "</table>\n",
       "<p>48895 rows × 4 columns</p>\n",
       "</div>"
      ],
      "text/plain": [
       "      neighbourhood_group        room_type  price  availability_365\n",
       "0                Brooklyn     Private room    149               365\n",
       "1               Manhattan  Entire home_apt    225               355\n",
       "2               Manhattan     Private room    150               365\n",
       "3                Brooklyn  Entire home_apt     89               194\n",
       "4               Manhattan  Entire home_apt     80                 0\n",
       "...                   ...              ...    ...               ...\n",
       "48890            Brooklyn     Private room     70                 9\n",
       "48891            Brooklyn     Private room     40                36\n",
       "48892           Manhattan  Entire home_apt    115                27\n",
       "48893           Manhattan      Shared room     55                 2\n",
       "48894           Manhattan     Private room     90                23\n",
       "\n",
       "[48895 rows x 4 columns]"
      ]
     },
     "execution_count": 4,
     "metadata": {},
     "output_type": "execute_result"
    }
   ],
   "source": [
    "ny_df_cleaned_final"
   ]
  },
  {
   "cell_type": "markdown",
   "id": "f405466c-7cd9-42f2-afe9-6caecce6c575",
   "metadata": {},
   "source": [
    "### events.csv file ###"
   ]
  },
  {
   "cell_type": "code",
   "execution_count": 5,
   "id": "31cfde84-12c5-4539-a396-9a73dc52a1b1",
   "metadata": {},
   "outputs": [
    {
     "data": {
      "text/plain": [
       "array(['Brooklyn', 'Manhattan', 'Queens', 'Staten Island', 'Bronx'],\n",
       "      dtype=object)"
      ]
     },
     "execution_count": 5,
     "metadata": {},
     "output_type": "execute_result"
    }
   ],
   "source": [
    "# Predefined list of possible venues in New York\n",
    "venues = ny_df_cleaned_final[\"neighbourhood_group\"].unique()\n",
    "venues"
   ]
  },
  {
   "cell_type": "code",
   "execution_count": 6,
   "id": "f8f5e187-9cf2-4822-9aee-c45b49f2787f",
   "metadata": {},
   "outputs": [],
   "source": [
    "events = []\n",
    "for i in range(1, 6):\n",
    "    event = {\n",
    "        \"event_id\": i,\n",
    "        \"event_name\": f\"Conference  {i}\",  # random event-style name\n",
    "        \"event_duration\": random.randint(1, 90), # random duration - days\n",
    "        \"event_location\": f\"{(venues[i-1])}, New York\"\n",
    "    }\n",
    "    events.append(event)"
   ]
  },
  {
   "cell_type": "code",
   "execution_count": 33,
   "id": "fa27c4ba-40b1-4085-a3b1-733b5e3271dd",
   "metadata": {},
   "outputs": [
    {
     "data": {
      "text/plain": [
       "[{'event_id': 1,\n",
       "  'event_name': 'Conference  1',\n",
       "  'event_duration': 14,\n",
       "  'event_location': 'Brooklyn, New York'},\n",
       " {'event_id': 2,\n",
       "  'event_name': 'Conference  2',\n",
       "  'event_duration': 74,\n",
       "  'event_location': 'Manhattan, New York'},\n",
       " {'event_id': 3,\n",
       "  'event_name': 'Conference  3',\n",
       "  'event_duration': 36,\n",
       "  'event_location': 'Queens, New York'},\n",
       " {'event_id': 4,\n",
       "  'event_name': 'Conference  4',\n",
       "  'event_duration': 45,\n",
       "  'event_location': 'Staten Island, New York'},\n",
       " {'event_id': 5,\n",
       "  'event_name': 'Conference  5',\n",
       "  'event_duration': 68,\n",
       "  'event_location': 'Bronx, New York'}]"
      ]
     },
     "execution_count": 33,
     "metadata": {},
     "output_type": "execute_result"
    }
   ],
   "source": [
    "events"
   ]
  },
  {
   "cell_type": "code",
   "execution_count": 7,
   "id": "f0db0c9e-cf26-4604-8cb2-37041f5aa8ae",
   "metadata": {},
   "outputs": [],
   "source": [
    "# Create DataFrame\n",
    "events_df = pd.DataFrame(events)"
   ]
  },
  {
   "cell_type": "code",
   "execution_count": 8,
   "id": "d670f16e-833b-4767-b7cd-395a8631f3a3",
   "metadata": {},
   "outputs": [
    {
     "name": "stdout",
     "output_type": "stream",
     "text": [
      "<class 'pandas.core.frame.DataFrame'>\n",
      "RangeIndex: 5 entries, 0 to 4\n",
      "Data columns (total 4 columns):\n",
      " #   Column          Non-Null Count  Dtype \n",
      "---  ------          --------------  ----- \n",
      " 0   event_id        5 non-null      int64 \n",
      " 1   event_name      5 non-null      object\n",
      " 2   event_duration  5 non-null      int64 \n",
      " 3   event_location  5 non-null      object\n",
      "dtypes: int64(2), object(2)\n",
      "memory usage: 292.0+ bytes\n"
     ]
    }
   ],
   "source": [
    "events_df.info()"
   ]
  },
  {
   "cell_type": "code",
   "execution_count": 9,
   "id": "083477df-55c0-40fc-9b83-63ef527b7e01",
   "metadata": {},
   "outputs": [
    {
     "name": "stdout",
     "output_type": "stream",
     "text": [
      "   event_id     event_name  event_duration           event_location\n",
      "0         1  Conference  1              72       Brooklyn, New York\n",
      "1         2  Conference  2              22      Manhattan, New York\n",
      "2         3  Conference  3              11         Queens, New York\n",
      "3         4  Conference  4              79  Staten Island, New York\n",
      "4         5  Conference  5              23          Bronx, New York\n"
     ]
    }
   ],
   "source": [
    "# Show table\n",
    "print(events_df)"
   ]
  },
  {
   "cell_type": "code",
   "execution_count": 11,
   "id": "134af643-802b-4854-9d0b-0fce86869ef9",
   "metadata": {},
   "outputs": [],
   "source": [
    "# Save events to CSV\n",
    "events_df.to_csv(r\"/Users/priyanka/Documents/IronHack/Lab Practics & submission/Project 2/events.csv\", index=False)"
   ]
  },
  {
   "cell_type": "code",
   "execution_count": 26,
   "id": "d0d4aa92-71d0-4d0e-b9b0-af01cb88d9da",
   "metadata": {},
   "outputs": [],
   "source": [
    "### students.csv file ###"
   ]
  },
  {
   "cell_type": "code",
   "execution_count": 12,
   "id": "ddace3f9-dc07-4888-87c1-928364461a87",
   "metadata": {},
   "outputs": [],
   "source": [
    "# Students data\n",
    "students = [{'student_id': 1,\n",
    "  'student_name': 'Mary Smith'},\n",
    " {'student_id': 2,\n",
    "  'student_name': 'John Holland'},\n",
    " {'student_id': 3,\n",
    "  'student_name': 'Dillon Robbins'},\n",
    " {'student_id': 4,\n",
    "  'student_name': 'Michael Beck'},\n",
    " {'student_id': 5,\n",
    "  'student_name': 'Rachel Adams'}]"
   ]
  },
  {
   "cell_type": "code",
   "execution_count": 28,
   "id": "b781a7ae-9d28-4e48-a862-f60333a26ac2",
   "metadata": {},
   "outputs": [
    {
     "data": {
      "text/plain": [
       "[{'student_id': 1, 'student_name': 'Mary Smith'},\n",
       " {'student_id': 2, 'student_name': 'John Holland'},\n",
       " {'student_id': 3, 'student_name': 'Dillon Robbins'},\n",
       " {'student_id': 4, 'student_name': 'Michael Beck'},\n",
       " {'student_id': 5, 'student_name': 'Rachel Adams'}]"
      ]
     },
     "execution_count": 28,
     "metadata": {},
     "output_type": "execute_result"
    }
   ],
   "source": [
    "students"
   ]
  },
  {
   "cell_type": "code",
   "execution_count": 13,
   "id": "9c724860-4796-4b04-b1a9-da1177c735aa",
   "metadata": {},
   "outputs": [],
   "source": [
    "students_df = pd.DataFrame(students)"
   ]
  },
  {
   "cell_type": "code",
   "execution_count": 14,
   "id": "5fe091fb-22ba-43d2-8c15-1bcd34b0a587",
   "metadata": {},
   "outputs": [],
   "source": [
    "students_df.to_csv(r\"/Users/priyanka/Documents/IronHack/Lab Practics & submission/Project 2/students.csv\", index=False)"
   ]
  },
  {
   "cell_type": "code",
   "execution_count": 16,
   "id": "7fedbecb-6f95-450f-a79f-25259e272350",
   "metadata": {},
   "outputs": [
    {
     "name": "stdout",
     "output_type": "stream",
     "text": [
      "   neighbourhood_group     room_type  avg_price  avg_availability  count  \\\n",
      "2                Bronx   Shared room  59.800000        154.216667     60   \n",
      "5             Brooklyn   Shared room  50.527845        178.007264    413   \n",
      "8            Manhattan   Shared room  88.977083        138.572917    480   \n",
      "11              Queens   Shared room  69.020202        192.186869    198   \n",
      "13       Staten Island  Private room  62.292553        226.361702    188   \n",
      "\n",
      "    value_score  \n",
      "2      0.385268  \n",
      "5      0.282267  \n",
      "8      0.637495  \n",
      "11     0.357272  \n",
      "13     0.273980  \n"
     ]
    }
   ],
   "source": [
    "grouped = ny_df_cleaned_final.groupby([\"neighbourhood_group\", \"room_type\"]).agg(\n",
    "    avg_price=(\"price\", \"mean\"),\n",
    "    avg_availability=(\"availability_365\", \"mean\"),\n",
    "    count=(\"room_type\", \"count\")\n",
    ").reset_index()\n",
    "\n",
    "# Define value score (lower is better)\n",
    "grouped[\"value_score\"] = grouped[\"avg_price\"] / (grouped[\"avg_availability\"] + 1)\n",
    "\n",
    "# For each neighbourhood, pick the best room (lowest score)\n",
    "best_value_rooms = grouped.loc[grouped.groupby(\"neighbourhood_group\")[\"value_score\"].idxmin()]\n",
    "\n",
    "print(best_value_rooms)"
   ]
  },
  {
   "cell_type": "code",
   "execution_count": 19,
   "id": "be0a1ac7-b83d-4c75-83d2-479e2daa4eeb",
   "metadata": {},
   "outputs": [
    {
     "name": "stdout",
     "output_type": "stream",
     "text": [
      "  neighbourhood_group     room_type  avg_price  avg_availability  count\n",
      "3            Brooklyn   Shared room  39.580729        180.151042    384\n",
      "7              Queens   Shared room  40.291209        198.236264    182\n",
      "1               Bronx   Shared room  40.600000        149.818182     55\n",
      "9       Staten Island   Shared room  45.875000         33.875000      8\n",
      "8       Staten Island  Private room  54.647399        227.184971    173\n",
      "0               Bronx  Private room  54.793781        170.101473    611\n",
      "6              Queens  Private room  59.207486        146.169409   3099\n",
      "5           Manhattan   Shared room  61.853598        146.210918    403\n",
      "2            Brooklyn  Private room  62.065114         95.960269   9061\n",
      "4           Manhattan  Private room  73.693194         91.083860   5378\n"
     ]
    }
   ],
   "source": [
    "budget_ny_df_cleaned_final = ny_df_cleaned_final[(ny_df_cleaned_final[\"price\"] <= 100) & (ny_df_cleaned_final[\"room_type\"].isin([\"Shared room\", \"Private room\"]))]\n",
    "\n",
    "# Step 2: Group by neighbourhood and room type\n",
    "budget_analysis = budget_ny_df_cleaned_final.groupby([\"neighbourhood_group\", \"room_type\"]).agg(\n",
    "    avg_price=(\"price\", \"mean\"),\n",
    "    avg_availability=(\"availability_365\", \"mean\"),\n",
    "    count=(\"room_type\", \"count\")\n",
    ").reset_index()\n",
    "\n",
    "# Step 3: Sort by price (ascending) and availability (descending)\n",
    "budget_analysis = budget_analysis.sort_values(by=[\"avg_price\", \"avg_availability\"], ascending=[True, False])\n",
    "\n",
    "print(budget_analysis.head(10))"
   ]
  },
  {
   "cell_type": "code",
   "execution_count": null,
   "id": "a4717675-d0e9-415e-870c-d359c4cf5821",
   "metadata": {},
   "outputs": [],
   "source": []
  }
 ],
 "metadata": {
  "kernelspec": {
   "display_name": "Python [conda env:base] *",
   "language": "python",
   "name": "conda-base-py"
  },
  "language_info": {
   "codemirror_mode": {
    "name": "ipython",
    "version": 3
   },
   "file_extension": ".py",
   "mimetype": "text/x-python",
   "name": "python",
   "nbconvert_exporter": "python",
   "pygments_lexer": "ipython3",
   "version": "3.13.5"
  }
 },
 "nbformat": 4,
 "nbformat_minor": 5
}
